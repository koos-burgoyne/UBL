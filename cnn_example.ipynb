{
 "cells": [
  {
   "cell_type": "code",
   "execution_count": 2,
   "id": "d039c8e5",
   "metadata": {},
   "outputs": [
    {
     "name": "stdout",
     "output_type": "stream",
     "text": [
      "Training data shape :  (60000, 28, 28) (60000,)\n",
      "Testing data shape :  (10000, 28, 28) (10000,)\n"
     ]
    }
   ],
   "source": [
    "from keras.datasets import fashion_mnist\n",
    "(train_X,train_Y), (test_X,test_Y) = fashion_mnist.load_data()\n",
    "\n",
    "import numpy as np\n",
    "from tensorflow.keras.utils import to_categorical\n",
    "import matplotlib.pyplot as plt\n",
    "%matplotlib inline\n",
    "\n",
    "print('Training data shape : ', train_X.shape, train_Y.shape)\n",
    "\n",
    "print('Testing data shape : ', test_X.shape, test_Y.shape)"
   ]
  },
  {
   "cell_type": "code",
   "execution_count": 3,
   "id": "9d29a4a9",
   "metadata": {},
   "outputs": [
    {
     "name": "stdout",
     "output_type": "stream",
     "text": [
      "Total number of classes :  10\n",
      "Class labels :  [0 1 2 3 4 5 6 7 8 9]\n"
     ]
    }
   ],
   "source": [
    "# Find the unique numbers from the train labels\n",
    "classes = np.unique(train_Y)\n",
    "nClasses = len(classes)\n",
    "print('Total number of classes : ', nClasses)\n",
    "print('Class labels : ', classes)"
   ]
  },
  {
   "cell_type": "code",
   "execution_count": 4,
   "id": "ae737fbd",
   "metadata": {},
   "outputs": [
    {
     "data": {
      "text/plain": [
       "Text(0.5, 1.0, 'Ground Truth : 9')"
      ]
     },
     "execution_count": 4,
     "metadata": {},
     "output_type": "execute_result"
    },
    {
     "data": {
      "image/png": "[encoded data removed]",
      "text/plain": [
       "<Figure size 360x360 with 2 Axes>"
      ]
     },
     "metadata": {
      "needs_background": "light"
     },
     "output_type": "display_data"
    }
   ],
   "source": [
    "plt.figure(figsize=[5,5])\n",
    "\n",
    "# Display the first image in training data\n",
    "plt.subplot(121)\n",
    "plt.imshow(train_X[0,:,:], cmap='gray')\n",
    "plt.title(\"Ground Truth : {}\".format(train_Y[0]))\n",
    "\n",
    "# Display the first image in testing data\n",
    "plt.subplot(122)\n",
    "plt.imshow(test_X[0,:,:], cmap='gray')\n",
    "plt.title(\"Ground Truth : {}\".format(test_Y[0]))"
   ]
  },
  {
   "cell_type": "code",
   "execution_count": 5,
   "id": "cfc40488",
   "metadata": {},
   "outputs": [
    {
     "data": {
      "text/plain": [
       "((2000, 28, 28, 1), (2000, 28, 28, 1))"
      ]
     },
     "execution_count": 5,
     "metadata": {},
     "output_type": "execute_result"
    }
   ],
   "source": [
    "# Experimenting: Remove most of the data\n",
    "n = 2000\n",
    "train_X = train_X[:n,:]\n",
    "test_X = test_X[:n,:]\n",
    "train_Y = train_Y[:n]\n",
    "test_Y = test_Y[:n]\n",
    "\n",
    "# Give the data a single layer\n",
    "train_X = train_X.reshape(-1, 28,28, 1)\n",
    "test_X = test_X.reshape(-1, 28,28, 1)\n",
    "train_X.shape, test_X.shape\n",
    "#print(train_X[0].reshape(28,28))"
   ]
  },
  {
   "cell_type": "code",
   "execution_count": 6,
   "id": "71e8ef2a",
   "metadata": {},
   "outputs": [],
   "source": [
    "# Convert the data to 32bit float type...\n",
    "train_X = train_X.astype('float32')\n",
    "test_X = test_X.astype('float32')\n",
    "# ...and normalize the data\n",
    "train_X = train_X / 255.\n",
    "test_X = test_X / 255\n",
    "\n",
    "#print(np.shape(train_X))\n",
    "#plt.imshow(train_X[0].reshape(28,28))"
   ]
  },
  {
   "cell_type": "code",
   "execution_count": 7,
   "id": "6774778c",
   "metadata": {},
   "outputs": [
    {
     "name": "stdout",
     "output_type": "stream",
     "text": [
      "Original label: 9\n",
      "After conversion to one-hot: [0. 0. 0. 0. 0. 0. 0. 0. 0. 1.]\n",
      "(2000, 28, 28, 1)\n",
      "(2000, 10)\n"
     ]
    }
   ],
   "source": [
    "# Change the labels from categorical to one-hot encoding\n",
    "train_Y_one_hot = to_categorical(train_Y)\n",
    "test_Y_one_hot = to_categorical(test_Y)\n",
    "\n",
    "# Display the change for category label using one-hot encoding\n",
    "print('Original label:', train_Y[0])\n",
    "print('After conversion to one-hot:', train_Y_one_hot[0])\n",
    "\n",
    "print(np.shape(train_X))\n",
    "print(np.shape(train_Y_one_hot))"
   ]
  },
  {
   "cell_type": "code",
   "execution_count": 8,
   "id": "1f55196a",
   "metadata": {},
   "outputs": [],
   "source": [
    "# Split the data into train and test\n",
    "from sklearn.model_selection import train_test_split\n",
    "train_X,valid_X,train_label,valid_label = train_test_split(train_X, train_Y_one_hot, test_size=0.2, random_state=13)"
   ]
  },
  {
   "cell_type": "code",
   "execution_count": 9,
   "id": "f57f8008",
   "metadata": {},
   "outputs": [],
   "source": [
    "import tensorflow.keras as keras\n",
    "from tensorflow.keras.models import Sequential,Model\n",
    "from tensorflow.keras.layers import Input, Dense, Dropout, Flatten\n",
    "from tensorflow.keras.layers import Conv2D, MaxPooling2D\n",
    "from tensorflow.keras.layers import BatchNormalization\n",
    "from tensorflow.keras.layers import LeakyReLU"
   ]
  },
  {
   "cell_type": "code",
   "execution_count": 10,
   "id": "0c9f9a71",
   "metadata": {},
   "outputs": [
    {
     "name": "stdout",
     "output_type": "stream",
     "text": [
      "Model: \"sequential\"\n",
      "_________________________________________________________________\n",
      " Layer (type)                Output Shape              Param #   \n",
      "=================================================================\n",
      " conv2d (Conv2D)             (None, 28, 28, 32)        2720      \n",
      "                                                                 \n",
      " leaky_re_lu (LeakyReLU)     (None, 28, 28, 32)        0         \n",
      "                                                                 \n",
      " max_pooling2d (MaxPooling2D  (None, 14, 14, 32)       0         \n",
      " )                                                               \n",
      "                                                                 \n",
      " conv2d_1 (Conv2D)           (None, 14, 14, 64)        18496     \n",
      "                                                                 \n",
      " leaky_re_lu_1 (LeakyReLU)   (None, 14, 14, 64)        0         \n",
      "                                                                 \n",
      " max_pooling2d_1 (MaxPooling  (None, 7, 7, 64)         0         \n",
      " 2D)                                                             \n",
      "                                                                 \n",
      " conv2d_2 (Conv2D)           (None, 7, 7, 128)         73856     \n",
      "                                                                 \n",
      " leaky_re_lu_2 (LeakyReLU)   (None, 7, 7, 128)         0         \n",
      "                                                                 \n",
      " max_pooling2d_2 (MaxPooling  (None, 4, 4, 128)        0         \n",
      " 2D)                                                             \n",
      "                                                                 \n",
      " flatten (Flatten)           (None, 2048)              0         \n",
      "                                                                 \n",
      " dense (Dense)               (None, 128)               262272    \n",
      "                                                                 \n",
      " leaky_re_lu_3 (LeakyReLU)   (None, 128)               0         \n",
      "                                                                 \n",
      " dense_1 (Dense)             (None, 10)                1290      \n",
      "                                                                 \n",
      "=================================================================\n",
      "Total params: 358,634\n",
      "Trainable params: 358,634\n",
      "Non-trainable params: 0\n",
      "_________________________________________________________________\n"
     ]
    },
    {
     "name": "stderr",
     "output_type": "stream",
     "text": [
      "2021-12-03 14:35:02.204799: I tensorflow/stream_executor/cuda/cuda_gpu_executor.cc:939] successful NUMA node read from SysFS had negative value (-1), but there must be at least one NUMA node, so returning NUMA node zero\n",
      "2021-12-03 14:35:02.205206: W tensorflow/stream_executor/platform/default/dso_loader.cc:64] Could not load dynamic library 'libcudart.so.11.0'; dlerror: libcudart.so.11.0: cannot open shared object file: No such file or directory\n",
      "2021-12-03 14:35:02.205273: W tensorflow/stream_executor/platform/default/dso_loader.cc:64] Could not load dynamic library 'libcublas.so.11'; dlerror: libcublas.so.11: cannot open shared object file: No such file or directory\n",
      "2021-12-03 14:35:02.205348: W tensorflow/stream_executor/platform/default/dso_loader.cc:64] Could not load dynamic library 'libcublasLt.so.11'; dlerror: libcublasLt.so.11: cannot open shared object file: No such file or directory\n",
      "2021-12-03 14:35:02.205409: W tensorflow/stream_executor/platform/default/dso_loader.cc:64] Could not load dynamic library 'libcufft.so.10'; dlerror: libcufft.so.10: cannot open shared object file: No such file or directory\n",
      "2021-12-03 14:35:02.205466: W tensorflow/stream_executor/platform/default/dso_loader.cc:64] Could not load dynamic library 'libcurand.so.10'; dlerror: libcurand.so.10: cannot open shared object file: No such file or directory\n",
      "2021-12-03 14:35:02.205524: W tensorflow/stream_executor/platform/default/dso_loader.cc:64] Could not load dynamic library 'libcusolver.so.11'; dlerror: libcusolver.so.11: cannot open shared object file: No such file or directory\n",
      "2021-12-03 14:35:02.205580: W tensorflow/stream_executor/platform/default/dso_loader.cc:64] Could not load dynamic library 'libcusparse.so.11'; dlerror: libcusparse.so.11: cannot open shared object file: No such file or directory\n",
      "2021-12-03 14:35:02.205637: W tensorflow/stream_executor/platform/default/dso_loader.cc:64] Could not load dynamic library 'libcudnn.so.8'; dlerror: libcudnn.so.8: cannot open shared object file: No such file or directory\n",
      "2021-12-03 14:35:02.205647: W tensorflow/core/common_runtime/gpu/gpu_device.cc:1850] Cannot dlopen some GPU libraries. Please make sure the missing libraries mentioned above are installed properly if you would like to use GPU. Follow the guide at https://www.tensorflow.org/install/gpu for how to download and setup the required libraries for your platform.\n",
      "Skipping registering GPU devices...\n",
      "2021-12-03 14:35:02.206075: I tensorflow/core/platform/cpu_feature_guard.cc:151] This TensorFlow binary is optimized with oneAPI Deep Neural Network Library (oneDNN) to use the following CPU instructions in performance-critical operations:  AVX2 FMA\n",
      "To enable them in other operations, rebuild TensorFlow with the appropriate compiler flags.\n"
     ]
    }
   ],
   "source": [
    "batch_size = 64\n",
    "epochs = 20\n",
    "num_classes = 10\n",
    "\n",
    "fashion_model = Sequential()\n",
    "fashion_model.add(Conv2D(32, kernel_size=(28, 3),activation='linear',input_shape=(28,28,1),padding='same'))\n",
    "fashion_model.add(LeakyReLU(alpha=0.1))\n",
    "fashion_model.add(MaxPooling2D((2, 2),padding='same'))\n",
    "fashion_model.add(Conv2D(64, (3, 3), activation='linear',padding='same'))\n",
    "fashion_model.add(LeakyReLU(alpha=0.1))\n",
    "fashion_model.add(MaxPooling2D(pool_size=(2, 2),padding='same'))\n",
    "fashion_model.add(Conv2D(128, (3, 3), activation='linear',padding='same'))\n",
    "fashion_model.add(LeakyReLU(alpha=0.1))                  \n",
    "fashion_model.add(MaxPooling2D(pool_size=(2, 2),padding='same'))\n",
    "fashion_model.add(Flatten())\n",
    "fashion_model.add(Dense(128, activation='linear'))\n",
    "fashion_model.add(LeakyReLU(alpha=0.1))                  \n",
    "fashion_model.add(Dense(num_classes, activation='softmax'))\n",
    "\n",
    "fashion_model.compile(\n",
    "    loss=keras.losses.categorical_crossentropy, \n",
    "    optimizer=keras.optimizers.Adam(),\n",
    "    metrics=['accuracy']\n",
    ")\n",
    "\n",
    "fashion_model.summary()"
   ]
  },
  {
   "cell_type": "code",
   "execution_count": 11,
   "id": "a5e879f4",
   "metadata": {},
   "outputs": [
    {
     "name": "stdout",
     "output_type": "stream",
     "text": [
      "Epoch 1/20\n",
      "25/25 [==============================] - 2s 49ms/step - loss: 1.4557 - accuracy: 0.4775 - val_loss: 1.0160 - val_accuracy: 0.6075\n",
      "Epoch 2/20\n",
      "25/25 [==============================] - 1s 46ms/step - loss: 0.8182 - accuracy: 0.7013 - val_loss: 0.7274 - val_accuracy: 0.7475\n",
      "Epoch 3/20\n",
      "25/25 [==============================] - 1s 46ms/step - loss: 0.6897 - accuracy: 0.7475 - val_loss: 0.5963 - val_accuracy: 0.7775\n",
      "Epoch 4/20\n",
      "25/25 [==============================] - 1s 45ms/step - loss: 0.5734 - accuracy: 0.7925 - val_loss: 0.6186 - val_accuracy: 0.7625\n",
      "Epoch 5/20\n",
      "25/25 [==============================] - 1s 47ms/step - loss: 0.5449 - accuracy: 0.8025 - val_loss: 0.5200 - val_accuracy: 0.8150\n",
      "Epoch 6/20\n",
      "25/25 [==============================] - 1s 45ms/step - loss: 0.4952 - accuracy: 0.8175 - val_loss: 0.5305 - val_accuracy: 0.8100\n",
      "Epoch 7/20\n",
      "25/25 [==============================] - 1s 47ms/step - loss: 0.4381 - accuracy: 0.8438 - val_loss: 0.4540 - val_accuracy: 0.8375\n",
      "Epoch 8/20\n",
      "25/25 [==============================] - 1s 47ms/step - loss: 0.4318 - accuracy: 0.8450 - val_loss: 0.4459 - val_accuracy: 0.8525\n",
      "Epoch 9/20\n",
      "25/25 [==============================] - 1s 47ms/step - loss: 0.3690 - accuracy: 0.8706 - val_loss: 0.4335 - val_accuracy: 0.8525\n",
      "Epoch 10/20\n",
      "25/25 [==============================] - 1s 49ms/step - loss: 0.3455 - accuracy: 0.8687 - val_loss: 0.4753 - val_accuracy: 0.8350\n",
      "Epoch 11/20\n",
      "25/25 [==============================] - 1s 44ms/step - loss: 0.3456 - accuracy: 0.8731 - val_loss: 0.4250 - val_accuracy: 0.8650\n",
      "Epoch 12/20\n",
      "25/25 [==============================] - 1s 47ms/step - loss: 0.2879 - accuracy: 0.9038 - val_loss: 0.4012 - val_accuracy: 0.8500\n",
      "Epoch 13/20\n",
      "25/25 [==============================] - 1s 47ms/step - loss: 0.2656 - accuracy: 0.9019 - val_loss: 0.4265 - val_accuracy: 0.8400\n",
      "Epoch 14/20\n",
      "25/25 [==============================] - 1s 46ms/step - loss: 0.2512 - accuracy: 0.9038 - val_loss: 0.4440 - val_accuracy: 0.8375\n",
      "Epoch 15/20\n",
      "25/25 [==============================] - 1s 44ms/step - loss: 0.2230 - accuracy: 0.9219 - val_loss: 0.4584 - val_accuracy: 0.8625\n",
      "Epoch 16/20\n",
      "25/25 [==============================] - 1s 43ms/step - loss: 0.2364 - accuracy: 0.9162 - val_loss: 0.4626 - val_accuracy: 0.8350\n",
      "Epoch 17/20\n",
      "25/25 [==============================] - 1s 46ms/step - loss: 0.2232 - accuracy: 0.9187 - val_loss: 0.4556 - val_accuracy: 0.8575\n",
      "Epoch 18/20\n",
      "25/25 [==============================] - 1s 44ms/step - loss: 0.1954 - accuracy: 0.9319 - val_loss: 0.4632 - val_accuracy: 0.8475\n",
      "Epoch 19/20\n",
      "25/25 [==============================] - 1s 43ms/step - loss: 0.1706 - accuracy: 0.9388 - val_loss: 0.5578 - val_accuracy: 0.8150\n",
      "Epoch 20/20\n",
      "25/25 [==============================] - 1s 47ms/step - loss: 0.1554 - accuracy: 0.9444 - val_loss: 0.4875 - val_accuracy: 0.8575\n"
     ]
    }
   ],
   "source": [
    "fashion_train = fashion_model.fit(train_X, train_label, batch_size=batch_size,epochs=epochs,verbose=1,validation_data=(valid_X, valid_label))"
   ]
  },
  {
   "cell_type": "code",
   "execution_count": 12,
   "id": "77a29604",
   "metadata": {},
   "outputs": [
    {
     "name": "stdout",
     "output_type": "stream",
     "text": [
      "Test loss: 0.49094074964523315\n",
      "Test accuracy: 0.843500018119812\n"
     ]
    }
   ],
   "source": [
    "test_eval = fashion_model.evaluate(test_X, test_Y_one_hot, verbose=0)\n",
    "\n",
    "print('Test loss:', test_eval[0])\n",
    "print('Test accuracy:', test_eval[1])"
   ]
  },
  {
   "cell_type": "code",
   "execution_count": 13,
   "id": "ab57836a",
   "metadata": {},
   "outputs": [
    {
     "data": {
      "image/png": "[encoded data removed]",
      "text/plain": [
       "<Figure size 432x288 with 1 Axes>"
      ]
     },
     "metadata": {
      "needs_background": "light"
     },
     "output_type": "display_data"
    },
    {
     "data": {
      "image/png": "[encoded data removed]",
      "text/plain": [
       "<Figure size 432x288 with 1 Axes>"
      ]
     },
     "metadata": {
      "needs_background": "light"
     },
     "output_type": "display_data"
    }
   ],
   "source": [
    "accuracy = fashion_train.history['accuracy']\n",
    "val_accuracy = fashion_train.history['val_accuracy']\n",
    "loss = fashion_train.history['loss']\n",
    "val_loss = fashion_train.history['val_loss']\n",
    "epochs = range(len(accuracy))\n",
    "plt.plot(epochs, accuracy, 'bo', label='Training accuracy')\n",
    "plt.plot(epochs, val_accuracy, 'b', label='Validation accuracy')\n",
    "plt.title('Training and validation accuracy')\n",
    "plt.xlabel('Epochs')\n",
    "plt.legend()\n",
    "plt.figure()\n",
    "plt.plot(epochs, loss, 'bo', label='Training loss')\n",
    "plt.plot(epochs, val_loss, 'b', label='Validation loss')\n",
    "plt.title('Training and validation loss')\n",
    "plt.xlabel('Epochs')\n",
    "plt.legend()\n",
    "plt.show()"
   ]
  },
  {
   "cell_type": "code",
   "execution_count": 14,
   "id": "24dbd254",
   "metadata": {},
   "outputs": [
    {
     "name": "stdout",
     "output_type": "stream",
     "text": [
      "Model: \"sequential_1\"\n",
      "_________________________________________________________________\n",
      " Layer (type)                Output Shape              Param #   \n",
      "=================================================================\n",
      " conv2d_3 (Conv2D)           (None, 28, 28, 32)        320       \n",
      "                                                                 \n",
      " leaky_re_lu_4 (LeakyReLU)   (None, 28, 28, 32)        0         \n",
      "                                                                 \n",
      " max_pooling2d_3 (MaxPooling  (None, 14, 14, 32)       0         \n",
      " 2D)                                                             \n",
      "                                                                 \n",
      " dropout (Dropout)           (None, 14, 14, 32)        0         \n",
      "                                                                 \n",
      " conv2d_4 (Conv2D)           (None, 14, 14, 64)        18496     \n",
      "                                                                 \n",
      " leaky_re_lu_5 (LeakyReLU)   (None, 14, 14, 64)        0         \n",
      "                                                                 \n",
      " max_pooling2d_4 (MaxPooling  (None, 7, 7, 64)         0         \n",
      " 2D)                                                             \n",
      "                                                                 \n",
      " dropout_1 (Dropout)         (None, 7, 7, 64)          0         \n",
      "                                                                 \n",
      " conv2d_5 (Conv2D)           (None, 7, 7, 128)         73856     \n",
      "                                                                 \n",
      " leaky_re_lu_6 (LeakyReLU)   (None, 7, 7, 128)         0         \n",
      "                                                                 \n",
      " max_pooling2d_5 (MaxPooling  (None, 4, 4, 128)        0         \n",
      " 2D)                                                             \n",
      "                                                                 \n",
      " dropout_2 (Dropout)         (None, 4, 4, 128)         0         \n",
      "                                                                 \n",
      " flatten_1 (Flatten)         (None, 2048)              0         \n",
      "                                                                 \n",
      " dense_2 (Dense)             (None, 128)               262272    \n",
      "                                                                 \n",
      " leaky_re_lu_7 (LeakyReLU)   (None, 128)               0         \n",
      "                                                                 \n",
      " dropout_3 (Dropout)         (None, 128)               0         \n",
      "                                                                 \n",
      " dense_3 (Dense)             (None, 10)                1290      \n",
      "                                                                 \n",
      "=================================================================\n",
      "Total params: 356,234\n",
      "Trainable params: 356,234\n",
      "Non-trainable params: 0\n",
      "_________________________________________________________________\n"
     ]
    }
   ],
   "source": [
    "batch_size = 64\n",
    "epochs = 20\n",
    "num_classes = 10\n",
    "\n",
    "fashion_model = Sequential()\n",
    "fashion_model.add(Conv2D(32, kernel_size=(3, 3),activation='linear',padding='same',input_shape=(28,28,1)))\n",
    "fashion_model.add(LeakyReLU(alpha=0.1))\n",
    "fashion_model.add(MaxPooling2D((2, 2),padding='same'))\n",
    "fashion_model.add(Dropout(0.25))\n",
    "fashion_model.add(Conv2D(64, (3, 3), activation='linear',padding='same'))\n",
    "fashion_model.add(LeakyReLU(alpha=0.1))\n",
    "fashion_model.add(MaxPooling2D(pool_size=(2, 2),padding='same'))\n",
    "fashion_model.add(Dropout(0.25))\n",
    "fashion_model.add(Conv2D(128, (3, 3), activation='linear',padding='same'))\n",
    "fashion_model.add(LeakyReLU(alpha=0.1))                  \n",
    "fashion_model.add(MaxPooling2D(pool_size=(2, 2),padding='same'))\n",
    "fashion_model.add(Dropout(0.4))\n",
    "fashion_model.add(Flatten())\n",
    "fashion_model.add(Dense(128, activation='linear'))\n",
    "fashion_model.add(LeakyReLU(alpha=0.1))           \n",
    "fashion_model.add(Dropout(0.3))\n",
    "fashion_model.add(Dense(num_classes, activation='softmax'))\n",
    "\n",
    "fashion_model.summary()"
   ]
  },
  {
   "cell_type": "code",
   "execution_count": 15,
   "id": "0acb71ff",
   "metadata": {},
   "outputs": [
    {
     "name": "stdout",
     "output_type": "stream",
     "text": [
      "Epoch 1/20\n",
      "25/25 [==============================] - 1s 34ms/step - loss: 1.8907 - accuracy: 0.2944 - val_loss: 1.1558 - val_accuracy: 0.5000\n",
      "Epoch 2/20\n",
      "25/25 [==============================] - 1s 29ms/step - loss: 1.1022 - accuracy: 0.5719 - val_loss: 0.8106 - val_accuracy: 0.7175\n",
      "Epoch 3/20\n",
      "25/25 [==============================] - 1s 32ms/step - loss: 0.8684 - accuracy: 0.6750 - val_loss: 0.7240 - val_accuracy: 0.7300\n",
      "Epoch 4/20\n",
      "25/25 [==============================] - 1s 33ms/step - loss: 0.7438 - accuracy: 0.7237 - val_loss: 0.6204 - val_accuracy: 0.7750\n",
      "Epoch 5/20\n",
      "25/25 [==============================] - 1s 33ms/step - loss: 0.6980 - accuracy: 0.7425 - val_loss: 0.5961 - val_accuracy: 0.7800\n",
      "Epoch 6/20\n",
      "25/25 [==============================] - 1s 35ms/step - loss: 0.6192 - accuracy: 0.7837 - val_loss: 0.5812 - val_accuracy: 0.8025\n",
      "Epoch 7/20\n",
      "25/25 [==============================] - 1s 31ms/step - loss: 0.5831 - accuracy: 0.7800 - val_loss: 0.5094 - val_accuracy: 0.8125\n",
      "Epoch 8/20\n",
      "25/25 [==============================] - 1s 35ms/step - loss: 0.5402 - accuracy: 0.7919 - val_loss: 0.5167 - val_accuracy: 0.8175\n",
      "Epoch 9/20\n",
      "25/25 [==============================] - 1s 35ms/step - loss: 0.5305 - accuracy: 0.7962 - val_loss: 0.4736 - val_accuracy: 0.8425\n",
      "Epoch 10/20\n",
      "25/25 [==============================] - 1s 33ms/step - loss: 0.4909 - accuracy: 0.8356 - val_loss: 0.4935 - val_accuracy: 0.8275\n",
      "Epoch 11/20\n",
      "25/25 [==============================] - 1s 35ms/step - loss: 0.4751 - accuracy: 0.8275 - val_loss: 0.4706 - val_accuracy: 0.8150\n",
      "Epoch 12/20\n",
      "25/25 [==============================] - 1s 35ms/step - loss: 0.4447 - accuracy: 0.8344 - val_loss: 0.4348 - val_accuracy: 0.8450\n",
      "Epoch 13/20\n",
      "25/25 [==============================] - 1s 34ms/step - loss: 0.4262 - accuracy: 0.8425 - val_loss: 0.4293 - val_accuracy: 0.8375\n",
      "Epoch 14/20\n",
      "25/25 [==============================] - 1s 33ms/step - loss: 0.4281 - accuracy: 0.8363 - val_loss: 0.4333 - val_accuracy: 0.8400\n",
      "Epoch 15/20\n",
      "25/25 [==============================] - 1s 31ms/step - loss: 0.4014 - accuracy: 0.8506 - val_loss: 0.4098 - val_accuracy: 0.8600\n",
      "Epoch 16/20\n",
      "25/25 [==============================] - 1s 42ms/step - loss: 0.3744 - accuracy: 0.8694 - val_loss: 0.4152 - val_accuracy: 0.8550\n",
      "Epoch 17/20\n",
      "25/25 [==============================] - 1s 31ms/step - loss: 0.3734 - accuracy: 0.8631 - val_loss: 0.4083 - val_accuracy: 0.8625\n",
      "Epoch 18/20\n",
      "25/25 [==============================] - 1s 31ms/step - loss: 0.3532 - accuracy: 0.8650 - val_loss: 0.4061 - val_accuracy: 0.8625\n",
      "Epoch 19/20\n",
      "25/25 [==============================] - 1s 38ms/step - loss: 0.3229 - accuracy: 0.8838 - val_loss: 0.4043 - val_accuracy: 0.8600\n",
      "Epoch 20/20\n",
      "25/25 [==============================] - 1s 34ms/step - loss: 0.3178 - accuracy: 0.8737 - val_loss: 0.4009 - val_accuracy: 0.8625\n"
     ]
    }
   ],
   "source": [
    "fashion_model.compile(loss=keras.losses.categorical_crossentropy, optimizer=keras.optimizers.Adam(),metrics=['accuracy'])\n",
    "\n",
    "fashion_train_dropout = fashion_model.fit(train_X, train_label, batch_size=batch_size,epochs=epochs,verbose=1,validation_data=(valid_X, valid_label))\n"
   ]
  },
  {
   "cell_type": "code",
   "execution_count": 16,
   "id": "f5faf09c",
   "metadata": {},
   "outputs": [
    {
     "name": "stderr",
     "output_type": "stream",
     "text": [
      "2021-12-03 14:35:44.794583: W tensorflow/python/util/util.cc:368] Sets are not currently considered sequences, but this may change in the future, so consider avoiding using them.\n"
     ]
    },
    {
     "name": "stdout",
     "output_type": "stream",
     "text": [
      "INFO:tensorflow:Assets written to: fashion_model_dropout.h5py/assets\n",
      "63/63 [==============================] - 0s 5ms/step - loss: 0.4427 - accuracy: 0.8450\n",
      "Test loss: 0.44271039962768555\n",
      "Test accuracy: 0.8450000286102295\n"
     ]
    },
    {
     "data": {
      "image/png": "[encoded data removed]",
      "text/plain": [
       "<Figure size 432x288 with 1 Axes>"
      ]
     },
     "metadata": {
      "needs_background": "light"
     },
     "output_type": "display_data"
    },
    {
     "data": {
      "image/png": "[encoded data removed]",
      "text/plain": [
       "<Figure size 432x288 with 1 Axes>"
      ]
     },
     "metadata": {
      "needs_background": "light"
     },
     "output_type": "display_data"
    }
   ],
   "source": [
    "fashion_model.save(\"fashion_model_dropout.h5py\")\n",
    "\n",
    "test_eval = fashion_model.evaluate(test_X, test_Y_one_hot, verbose=1)\n",
    "\n",
    "print('Test loss:', test_eval[0])\n",
    "print('Test accuracy:', test_eval[1])\n",
    "\n",
    "accuracy = fashion_train_dropout.history['accuracy']\n",
    "val_accuracy = fashion_train_dropout.history['val_accuracy']\n",
    "loss = fashion_train_dropout.history['loss']\n",
    "val_loss = fashion_train_dropout.history['val_loss']\n",
    "epochs = range(len(accuracy))\n",
    "plt.plot(epochs, accuracy, 'bo', label='Training accuracy')\n",
    "plt.plot(epochs, val_accuracy, 'b', label='Validation accuracy')\n",
    "plt.title('Training and validation accuracy')\n",
    "plt.legend()\n",
    "plt.figure()\n",
    "plt.plot(epochs, loss, 'bo', label='Training loss')\n",
    "plt.plot(epochs, val_loss, 'b', label='Validation loss')\n",
    "plt.title('Training and validation loss')\n",
    "plt.legend()\n",
    "plt.show()"
   ]
  },
  {
   "cell_type": "code",
   "execution_count": 17,
   "id": "25d6f55d",
   "metadata": {},
   "outputs": [
    {
     "name": "stdout",
     "output_type": "stream",
     "text": [
      "(2000,) (2000,)\n",
      "Found 1646 correct labels\n"
     ]
    },
    {
     "data": {
      "image/png": "[encoded data removed]",
      "text/plain": [
       "<Figure size 432x288 with 8 Axes>"
      ]
     },
     "metadata": {
      "needs_background": "light"
     },
     "output_type": "display_data"
    }
   ],
   "source": [
    "predicted_classes = fashion_model.predict(test_X)\n",
    "predicted_classes = np.argmax(np.round(predicted_classes),axis=1)\n",
    "\n",
    "print(predicted_classes.shape, test_Y.shape)\n",
    "\n",
    "correct = np.where(predicted_classes==test_Y)[0]\n",
    "print(\"Found %d correct labels\" % len(correct))\n",
    "for i, correct in enumerate(correct[:9]):\n",
    "    plt.subplot(3,3,i+1)\n",
    "    plt.imshow(test_X[correct].reshape(28,28), cmap='gray', interpolation='none')\n",
    "    plt.title(\"Predicted {}, Class {}\".format(predicted_classes[correct], test_Y[correct]))\n",
    "    plt.tight_layout()"
   ]
  },
  {
   "cell_type": "code",
   "execution_count": 18,
   "id": "4f4346cd",
   "metadata": {},
   "outputs": [
    {
     "name": "stdout",
     "output_type": "stream",
     "text": [
      "Found 354 incorrect labels\n"
     ]
    },
    {
     "data": {
      "image/png": "[encoded data removed]",
      "text/plain": [
       "<Figure size 432x288 with 8 Axes>"
      ]
     },
     "metadata": {
      "needs_background": "light"
     },
     "output_type": "display_data"
    }
   ],
   "source": [
    "incorrect = np.where(predicted_classes!=test_Y)[0]\n",
    "print(\"Found %d incorrect labels\" % len(incorrect))\n",
    "for i, incorrect in enumerate(incorrect[:9]):\n",
    "    plt.subplot(3,3,i+1)\n",
    "    plt.imshow(test_X[incorrect].reshape(28,28), cmap='gray', interpolation='none')\n",
    "    plt.title(\"Predicted {}, Class {}\".format(predicted_classes[incorrect], test_Y[incorrect]))\n",
    "    plt.tight_layout()\n"
   ]
  },
  {
   "cell_type": "code",
   "execution_count": 19,
   "id": "22194ec5",
   "metadata": {},
   "outputs": [
    {
     "name": "stdout",
     "output_type": "stream",
     "text": [
      "              precision    recall  f1-score   support\n",
      "\n",
      "     Class 0       0.53      0.90      0.66       200\n",
      "     Class 1       0.98      0.97      0.98       203\n",
      "     Class 2       0.90      0.59      0.72       214\n",
      "     Class 3       0.90      0.83      0.87       190\n",
      "     Class 4       0.67      0.82      0.74       219\n",
      "     Class 5       0.98      0.89      0.94       195\n",
      "     Class 6       0.70      0.38      0.49       197\n",
      "     Class 7       0.87      0.99      0.93       200\n",
      "     Class 8       0.97      0.94      0.96       194\n",
      "     Class 9       0.99      0.93      0.96       188\n",
      "\n",
      "    accuracy                           0.82      2000\n",
      "   macro avg       0.85      0.82      0.82      2000\n",
      "weighted avg       0.85      0.82      0.82      2000\n",
      "\n"
     ]
    }
   ],
   "source": [
    "from sklearn.metrics import classification_report\n",
    "target_names = [\"Class {}\".format(i) for i in range(num_classes)]\n",
    "print(classification_report(test_Y, predicted_classes, target_names=target_names))"
   ]
  }
 ],
 "metadata": {
  "kernelspec": {
   "display_name": "Python 3 (ipykernel)",
   "language": "python",
   "name": "python3"
  },
  "language_info": {
   "codemirror_mode": {
    "name": "ipython",
    "version": 3
   },
   "file_extension": ".py",
   "mimetype": "text/x-python",
   "name": "python",
   "nbconvert_exporter": "python",
   "pygments_lexer": "ipython3",
   "version": "3.8.5"
  }
 },
 "nbformat": 4,
 "nbformat_minor": 5
}
