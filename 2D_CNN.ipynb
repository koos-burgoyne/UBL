{
 "cells": [
  {
   "cell_type": "code",
   "execution_count": 5,
   "id": "2bdebafd",
   "metadata": {},
   "outputs": [],
   "source": [
    "# Import numpy library for use in ...\n",
    "import numpy as np\n",
    "\n",
    "# Function info here ...\n",
    "def import_fa(file_name, return_labels=False):\n",
    "    print(\"Importing \"+file_name)\n",
    "    # List storage for file contents (sequences) and sequene labels\n",
    "    sequences = []\n",
    "    labels = []\n",
    "    # Try to open the file as read only\n",
    "    try:\n",
    "        file = open(file_name, \"r\")\n",
    "    # If the file would not open, print error message and exit\n",
    "    except:\n",
    "        print(\"\\nError: Could not open file\")\n",
    "        print(\"File name given: \"+file_name+\"\\n\")\n",
    "        raise SystemExit\n",
    "    # Iterate over all the lines in the file\n",
    "    for line in file.readlines():\n",
    "        # If this character is at the start of the line, it is a sequence label\n",
    "        if line[0] == \">\":\n",
    "            # If the argument 'return_labels' is True, append the label to a list\n",
    "            if return_labels:\n",
    "                labels.append(str(line)[1:-1])\n",
    "            else:\n",
    "                continue\n",
    "        # Append the sequence to the list of sequences\n",
    "        sequences.append(str(line)[:-1])\n",
    "    print(\"    \"+str(len(sequences))+\" sequences\")\n",
    "    # If the argument 'return_labels' is True, return arrays of the sequences and labels\n",
    "    if return_labels:\n",
    "        return np.array(sequences), np.array(labels)\n",
    "    # If False, only return an array of the sequences\n",
    "    else:\n",
    "        return np.array(sequences)\n",
    "\n",
    "# Function info here ...\n",
    "def raw_to_features(data,balance=False,resample=1.0):\n",
    "    print(\"\\nConverting to features:\")\n",
    "    n = len(data)\n",
    "    # Find basic data stats for function use:\n",
    "    #   the max length sequence in the data\n",
    "    #   the number of classes\n",
    "    #   count of each class\n",
    "    max_seq_len = 0\n",
    "    class_counts = [0]\n",
    "    num_classes = -1\n",
    "    # Iterate over all sequences\n",
    "    for line in data:\n",
    "        # Look out for a new class\n",
    "        if \"class\" in line:\n",
    "            class_counts.append(1)\n",
    "            num_classes += 1\n",
    "            continue\n",
    "        # Update max sequence length\n",
    "        if len(line) > max_seq_len:\n",
    "            max_seq_len = len(line)\n",
    "        # Update class counts\n",
    "        class_counts[num_classes+1] += 1\n",
    "    \n",
    "    # Since this was -1 based, increment to convert to 0 based count\n",
    "    num_classes += 1\n",
    "    \n",
    "    # Print stats found above\n",
    "    print(\"  Num Classes:\", num_classes)\n",
    "    print(\"  Class Counts:\")\n",
    "    frmt = \"{:>7}\"*num_classes\n",
    "    print(\" \"+frmt.format(*[i for i in range(num_classes)]))\n",
    "    print(\"   \",end=\"\")\n",
    "    frmt = \"{:>7}\"*num_classes\n",
    "    print(\" \"+frmt.format(*[class_counts[i] for i in range(1,num_classes+1)]))\n",
    "\n",
    "    # Split data by class for resampling\n",
    "    data_by_class = []\n",
    "    for i in range(num_classes):\n",
    "        data_by_class.append( data[class_counts[i]:class_counts[i+1]] )\n",
    "    \n",
    "    # Instantiate storage of features and labels\n",
    "    X = []\n",
    "    y = []\n",
    "    \n",
    "    # Init variables for resampling\n",
    "    total_per_class = 0\n",
    "    num_samples = n\n",
    "    # If resampling:\n",
    "    if resample != 1.0:\n",
    "        # Calculate the size of the resampled dataset\n",
    "        num_samples = int(n*resample)\n",
    "        # If balanced classs coutns are required:\n",
    "        if balance:\n",
    "            # Calculate a balanced total number of instances per class\n",
    "            total_per_class = int(num_samples/num_classes)\n",
    "            # Pull instances\n",
    "            for i in range(num_classes):\n",
    "                for j in range(1,total_per_class+1): \n",
    "                    X.append( data_by_class[i][j] )\n",
    "            # Pull labels\n",
    "            for i in range(num_classes):\n",
    "                for j in range(total_per_class):\n",
    "                    y.append(i)\n",
    "        # If imbalanced class counts are acceptable\n",
    "        else:\n",
    "            # Calculate the total number of instances per class in the same ratio as class counts\n",
    "            total_per_class = [int(num_samples*class_counts[i+1]/n) for i in range(num_classes)]\n",
    "            # Pull instances\n",
    "            for i in range(num_classes):\n",
    "                for j in range(total_per_class[i]+1,total_per_class[i+1]+1):\n",
    "                    X.append( data_by_class[i][j] )\n",
    "            # Pull labels\n",
    "            for i in range(num_classes):\n",
    "                for j in range(total_per_class):\n",
    "                    y.append(i)\n",
    "        print(\"  Resampling:\")\n",
    "        print(\"    Total samples:\",num_samples)\n",
    "        print(\"    Total/class  :\",total_per_class)\n",
    "        print()\n",
    "    # If not resampling\n",
    "    # TODO:  Complete - could the above be used instead of conditional?\n",
    "    else:\n",
    "        total_per_class = int(n/num_classes)\n",
    "    \n",
    "    # Convert from strings to arrays and pad the sequences with zeros to \n",
    "    # the length of the maximum length sequence; this is the number of features\n",
    "    for i in range(len(X)):\n",
    "        # Instantiate new array of zeros\n",
    "        new_instance = ['0' for i in range(max_seq_len)]\n",
    "        # Fill in sequence\n",
    "        for j in range(len(X[i])):\n",
    "            new_instance[j] = X[i][j]\n",
    "        # Store new sequence in features store X\n",
    "        X[i] = new_instance\n",
    "\n",
    "    # Return features and labels\n",
    "    return X,y"
   ]
  },
  {
   "cell_type": "code",
   "execution_count": 6,
   "id": "4d5d7ed9",
   "metadata": {},
   "outputs": [],
   "source": [
    "import tensorflow as tf\n",
    "from tensorflow.keras.utils import to_categorical\n",
    "import tensorflow.keras as keras\n",
    "from tensorflow.keras.models import Sequential,Model\n",
    "from tensorflow.keras.layers import Conv2D, MaxPooling2D\n",
    "from tensorflow.keras.layers import Input, Dense, Dropout, Flatten\n",
    "from tensorflow.keras.layers import BatchNormalization\n",
    "from tensorflow.keras.layers import LeakyReLU"
   ]
  },
  {
   "cell_type": "code",
   "execution_count": 7,
   "metadata": {},
   "outputs": [
    {
     "name": "stdout",
     "output_type": "stream",
     "text": [
      "Importing data/pos_neg-unip.fa\n",
      "    30050 sequences\n",
      "\n",
      "Converting to features:\n",
      "  Num Classes: 2\n",
      "  Class Counts:\n",
      "       0      1\n",
      "       3259  26791\n",
      "  Resampling:\n",
      "    Total samples: 300\n",
      "    Total/class  : 150\n",
      "\n"
     ]
    }
   ],
   "source": [
    "data = import_fa(\"data/pos_neg-unip.fa\")\n",
    "X, y = raw_to_features(data, balance=True, resample=0.01)\n",
    "\n",
    "y_one_hot = to_categorical(y)\n",
    "\n",
    "from sklearn.model_selection import train_test_split\n",
    "train_X, test_X, train_y, test_y = train_test_split(X, y_one_hot, test_size=0.2, random_state=0)\n",
    "\n",
    "# Number of data instances\n",
    "n = len(train_X)\n",
    "# Number of features\n",
    "m = len(train_X[0])\n"
   ]
  },
  {
   "cell_type": "code",
   "execution_count": 8,
   "id": "502e42d4",
   "metadata": {},
   "outputs": [
    {
     "name": "stdout",
     "output_type": "stream",
     "text": [
      "tf.Tensor([ 240 5537    1], shape=(3,), dtype=int32)\n"
     ]
    },
    {
     "name": "stderr",
     "output_type": "stream",
     "text": [
      "2021-12-03 18:39:55.982833: I tensorflow/stream_executor/cuda/cuda_gpu_executor.cc:939] successful NUMA node read from SysFS had negative value (-1), but there must be at least one NUMA node, so returning NUMA node zero\n",
      "2021-12-03 18:39:55.983261: W tensorflow/stream_executor/platform/default/dso_loader.cc:64] Could not load dynamic library 'libcudart.so.11.0'; dlerror: libcudart.so.11.0: cannot open shared object file: No such file or directory\n",
      "2021-12-03 18:39:55.983340: W tensorflow/stream_executor/platform/default/dso_loader.cc:64] Could not load dynamic library 'libcublas.so.11'; dlerror: libcublas.so.11: cannot open shared object file: No such file or directory\n",
      "2021-12-03 18:39:55.983411: W tensorflow/stream_executor/platform/default/dso_loader.cc:64] Could not load dynamic library 'libcublasLt.so.11'; dlerror: libcublasLt.so.11: cannot open shared object file: No such file or directory\n",
      "2021-12-03 18:39:55.983481: W tensorflow/stream_executor/platform/default/dso_loader.cc:64] Could not load dynamic library 'libcufft.so.10'; dlerror: libcufft.so.10: cannot open shared object file: No such file or directory\n",
      "2021-12-03 18:39:55.983553: W tensorflow/stream_executor/platform/default/dso_loader.cc:64] Could not load dynamic library 'libcurand.so.10'; dlerror: libcurand.so.10: cannot open shared object file: No such file or directory\n",
      "2021-12-03 18:39:55.983623: W tensorflow/stream_executor/platform/default/dso_loader.cc:64] Could not load dynamic library 'libcusolver.so.11'; dlerror: libcusolver.so.11: cannot open shared object file: No such file or directory\n",
      "2021-12-03 18:39:55.983694: W tensorflow/stream_executor/platform/default/dso_loader.cc:64] Could not load dynamic library 'libcusparse.so.11'; dlerror: libcusparse.so.11: cannot open shared object file: No such file or directory\n",
      "2021-12-03 18:39:55.983764: W tensorflow/stream_executor/platform/default/dso_loader.cc:64] Could not load dynamic library 'libcudnn.so.8'; dlerror: libcudnn.so.8: cannot open shared object file: No such file or directory\n",
      "2021-12-03 18:39:55.983777: W tensorflow/core/common_runtime/gpu/gpu_device.cc:1850] Cannot dlopen some GPU libraries. Please make sure the missing libraries mentioned above are installed properly if you would like to use GPU. Follow the guide at https://www.tensorflow.org/install/gpu for how to download and setup the required libraries for your platform.\n",
      "Skipping registering GPU devices...\n",
      "2021-12-03 18:39:55.984086: I tensorflow/core/platform/cpu_feature_guard.cc:151] This TensorFlow binary is optimized with oneAPI Deep Neural Network Library (oneDNN) to use the following CPU instructions in performance-critical operations:  AVX2 FMA\n",
      "To enable them in other operations, rebuild TensorFlow with the appropriate compiler flags.\n"
     ]
    }
   ],
   "source": [
    "# Convert Numpy array to Tensor\n",
    "train_X = tf.convert_to_tensor(train_X)\n",
    "train_X = tf.reshape( train_X, (len(train_X), len(train_X[0]), 1) )\n",
    "print(tf.shape(train_X))"
   ]
  },
  {
   "cell_type": "code",
   "execution_count": 9,
   "id": "8de58c48",
   "metadata": {},
   "outputs": [
    {
     "name": "stdout",
     "output_type": "stream",
     "text": [
      "tf.Tensor([240   2   1], shape=(3,), dtype=int32)\n"
     ]
    }
   ],
   "source": [
    "\n",
    "# Convert Numpy array to Tensor\n",
    "train_y = tf.convert_to_tensor(train_y)\n",
    "train_y = tf.reshape(train_y, (len(train_y), len(train_y[0]),1))\n",
    "print(tf.shape(train_y))"
   ]
  },
  {
   "cell_type": "code",
   "execution_count": 10,
   "id": "cd7e5f80",
   "metadata": {},
   "outputs": [
    {
     "name": "stdout",
     "output_type": "stream",
     "text": [
      "Model: \"sequential\"\n",
      "_________________________________________________________________\n",
      " Layer (type)                Output Shape              Param #   \n",
      "=================================================================\n",
      " conv2d (Conv2D)             (None, 240, 5537, 32)     128       \n",
      "                                                                 \n",
      " leaky_re_lu (LeakyReLU)     (None, 240, 5537, 32)     0         \n",
      "                                                                 \n",
      " max_pooling2d (MaxPooling2D  (None, 120, 2769, 32)    0         \n",
      " )                                                               \n",
      "                                                                 \n",
      " flatten (Flatten)           (None, 10632960)          0         \n",
      "                                                                 \n",
      " dense (Dense)               (None, 2)                 21265922  \n",
      "                                                                 \n",
      "=================================================================\n",
      "Total params: 21,266,050\n",
      "Trainable params: 21,266,050\n",
      "Non-trainable params: 0\n",
      "_________________________________________________________________\n"
     ]
    }
   ],
   "source": [
    "batch_size = 64\n",
    "epochs = 20\n",
    "num_classes = 2\n",
    "\n",
    "model = Sequential()\n",
    "\n",
    "model.add(Conv2D(filters=32, kernel_size=(1,3),activation='linear',input_shape=(n,m,1),padding='same'))\n",
    "model.add(LeakyReLU(alpha=0.1))\n",
    "model.add(MaxPooling2D(pool_size=2,padding='same'))\n",
    "\n",
    "model.add(Flatten())\n",
    "model.add(Dense(num_classes, activation='softmax'))\n",
    "\n",
    "model.compile(\n",
    "    loss=keras.losses.categorical_crossentropy, \n",
    "    optimizer=keras.optimizers.Adam(),\n",
    "    metrics=['accuracy']\n",
    ")\n",
    "\n",
    "model.summary()"
   ]
  },
  {
   "cell_type": "code",
   "execution_count": 11,
   "id": "32ec3109",
   "metadata": {},
   "outputs": [
    {
     "name": "stdout",
     "output_type": "stream",
     "text": [
      "(240, 5537, 1)\n",
      "Epoch 1/20\n"
     ]
    },
    {
     "ename": "ValueError",
     "evalue": "in user code:\n\n    File \"/home/chris/.local/lib/python3.8/site-packages/keras/engine/training.py\", line 878, in train_function  *\n        return step_function(self, iterator)\n    File \"/home/chris/.local/lib/python3.8/site-packages/keras/engine/training.py\", line 867, in step_function  **\n        outputs = model.distribute_strategy.run(run_step, args=(data,))\n    File \"/home/chris/.local/lib/python3.8/site-packages/keras/engine/training.py\", line 860, in run_step  **\n        outputs = model.train_step(data)\n    File \"/home/chris/.local/lib/python3.8/site-packages/keras/engine/training.py\", line 808, in train_step\n        y_pred = self(x, training=True)\n    File \"/home/chris/.local/lib/python3.8/site-packages/keras/utils/traceback_utils.py\", line 67, in error_handler\n        raise e.with_traceback(filtered_tb) from None\n    File \"/home/chris/.local/lib/python3.8/site-packages/keras/engine/input_spec.py\", line 263, in assert_input_compatibility\n        raise ValueError(f'Input {input_index} of layer \"{layer_name}\" is '\n\n    ValueError: Input 0 of layer \"sequential\" is incompatible with the layer: expected shape=(None, 240, 5537, 1), found shape=(None, 5537, 1)\n",
     "output_type": "error",
     "traceback": [
      "\u001b[0;31m---------------------------------------------------------------------------\u001b[0m",
      "\u001b[0;31mValueError\u001b[0m                                Traceback (most recent call last)",
      "\u001b[0;32m/tmp/ipykernel_195887/2843003984.py\u001b[0m in \u001b[0;36m<module>\u001b[0;34m\u001b[0m\n\u001b[1;32m      1\u001b[0m \u001b[0mprint\u001b[0m\u001b[0;34m(\u001b[0m\u001b[0mnp\u001b[0m\u001b[0;34m.\u001b[0m\u001b[0mshape\u001b[0m\u001b[0;34m(\u001b[0m\u001b[0mtrain_X\u001b[0m\u001b[0;34m)\u001b[0m\u001b[0;34m)\u001b[0m\u001b[0;34m\u001b[0m\u001b[0;34m\u001b[0m\u001b[0m\n\u001b[0;32m----> 2\u001b[0;31m \u001b[0mmodel\u001b[0m \u001b[0;34m=\u001b[0m \u001b[0mmodel\u001b[0m\u001b[0;34m.\u001b[0m\u001b[0mfit\u001b[0m\u001b[0;34m(\u001b[0m\u001b[0mtrain_X\u001b[0m\u001b[0;34m,\u001b[0m \u001b[0mtrain_y\u001b[0m\u001b[0;34m,\u001b[0m \u001b[0mbatch_size\u001b[0m\u001b[0;34m=\u001b[0m\u001b[0mbatch_size\u001b[0m\u001b[0;34m,\u001b[0m\u001b[0mepochs\u001b[0m\u001b[0;34m=\u001b[0m\u001b[0mepochs\u001b[0m\u001b[0;34m,\u001b[0m\u001b[0mverbose\u001b[0m\u001b[0;34m=\u001b[0m\u001b[0;36m1\u001b[0m\u001b[0;34m,\u001b[0m\u001b[0mvalidation_data\u001b[0m\u001b[0;34m=\u001b[0m\u001b[0;34m(\u001b[0m\u001b[0mtest_X\u001b[0m\u001b[0;34m,\u001b[0m \u001b[0mtest_y\u001b[0m\u001b[0;34m)\u001b[0m\u001b[0;34m)\u001b[0m\u001b[0;34m\u001b[0m\u001b[0;34m\u001b[0m\u001b[0m\n\u001b[0m",
      "\u001b[0;32m~/.local/lib/python3.8/site-packages/keras/utils/traceback_utils.py\u001b[0m in \u001b[0;36merror_handler\u001b[0;34m(*args, **kwargs)\u001b[0m\n\u001b[1;32m     65\u001b[0m     \u001b[0;32mexcept\u001b[0m \u001b[0mException\u001b[0m \u001b[0;32mas\u001b[0m \u001b[0me\u001b[0m\u001b[0;34m:\u001b[0m  \u001b[0;31m# pylint: disable=broad-except\u001b[0m\u001b[0;34m\u001b[0m\u001b[0;34m\u001b[0m\u001b[0m\n\u001b[1;32m     66\u001b[0m       \u001b[0mfiltered_tb\u001b[0m \u001b[0;34m=\u001b[0m \u001b[0m_process_traceback_frames\u001b[0m\u001b[0;34m(\u001b[0m\u001b[0me\u001b[0m\u001b[0;34m.\u001b[0m\u001b[0m__traceback__\u001b[0m\u001b[0;34m)\u001b[0m\u001b[0;34m\u001b[0m\u001b[0;34m\u001b[0m\u001b[0m\n\u001b[0;32m---> 67\u001b[0;31m       \u001b[0;32mraise\u001b[0m \u001b[0me\u001b[0m\u001b[0;34m.\u001b[0m\u001b[0mwith_traceback\u001b[0m\u001b[0;34m(\u001b[0m\u001b[0mfiltered_tb\u001b[0m\u001b[0;34m)\u001b[0m \u001b[0;32mfrom\u001b[0m \u001b[0;32mNone\u001b[0m\u001b[0;34m\u001b[0m\u001b[0;34m\u001b[0m\u001b[0m\n\u001b[0m\u001b[1;32m     68\u001b[0m     \u001b[0;32mfinally\u001b[0m\u001b[0;34m:\u001b[0m\u001b[0;34m\u001b[0m\u001b[0;34m\u001b[0m\u001b[0m\n\u001b[1;32m     69\u001b[0m       \u001b[0;32mdel\u001b[0m \u001b[0mfiltered_tb\u001b[0m\u001b[0;34m\u001b[0m\u001b[0;34m\u001b[0m\u001b[0m\n",
      "\u001b[0;32m~/.local/lib/python3.8/site-packages/tensorflow/python/framework/func_graph.py\u001b[0m in \u001b[0;36mautograph_handler\u001b[0;34m(*args, **kwargs)\u001b[0m\n\u001b[1;32m   1127\u001b[0m           \u001b[0;32mexcept\u001b[0m \u001b[0mException\u001b[0m \u001b[0;32mas\u001b[0m \u001b[0me\u001b[0m\u001b[0;34m:\u001b[0m  \u001b[0;31m# pylint:disable=broad-except\u001b[0m\u001b[0;34m\u001b[0m\u001b[0;34m\u001b[0m\u001b[0m\n\u001b[1;32m   1128\u001b[0m             \u001b[0;32mif\u001b[0m \u001b[0mhasattr\u001b[0m\u001b[0;34m(\u001b[0m\u001b[0me\u001b[0m\u001b[0;34m,\u001b[0m \u001b[0;34m\"ag_error_metadata\"\u001b[0m\u001b[0;34m)\u001b[0m\u001b[0;34m:\u001b[0m\u001b[0;34m\u001b[0m\u001b[0;34m\u001b[0m\u001b[0m\n\u001b[0;32m-> 1129\u001b[0;31m               \u001b[0;32mraise\u001b[0m \u001b[0me\u001b[0m\u001b[0;34m.\u001b[0m\u001b[0mag_error_metadata\u001b[0m\u001b[0;34m.\u001b[0m\u001b[0mto_exception\u001b[0m\u001b[0;34m(\u001b[0m\u001b[0me\u001b[0m\u001b[0;34m)\u001b[0m\u001b[0;34m\u001b[0m\u001b[0;34m\u001b[0m\u001b[0m\n\u001b[0m\u001b[1;32m   1130\u001b[0m             \u001b[0;32melse\u001b[0m\u001b[0;34m:\u001b[0m\u001b[0;34m\u001b[0m\u001b[0;34m\u001b[0m\u001b[0m\n\u001b[1;32m   1131\u001b[0m               \u001b[0;32mraise\u001b[0m\u001b[0;34m\u001b[0m\u001b[0;34m\u001b[0m\u001b[0m\n",
      "\u001b[0;31mValueError\u001b[0m: in user code:\n\n    File \"/home/chris/.local/lib/python3.8/site-packages/keras/engine/training.py\", line 878, in train_function  *\n        return step_function(self, iterator)\n    File \"/home/chris/.local/lib/python3.8/site-packages/keras/engine/training.py\", line 867, in step_function  **\n        outputs = model.distribute_strategy.run(run_step, args=(data,))\n    File \"/home/chris/.local/lib/python3.8/site-packages/keras/engine/training.py\", line 860, in run_step  **\n        outputs = model.train_step(data)\n    File \"/home/chris/.local/lib/python3.8/site-packages/keras/engine/training.py\", line 808, in train_step\n        y_pred = self(x, training=True)\n    File \"/home/chris/.local/lib/python3.8/site-packages/keras/utils/traceback_utils.py\", line 67, in error_handler\n        raise e.with_traceback(filtered_tb) from None\n    File \"/home/chris/.local/lib/python3.8/site-packages/keras/engine/input_spec.py\", line 263, in assert_input_compatibility\n        raise ValueError(f'Input {input_index} of layer \"{layer_name}\" is '\n\n    ValueError: Input 0 of layer \"sequential\" is incompatible with the layer: expected shape=(None, 240, 5537, 1), found shape=(None, 5537, 1)\n"
     ]
    }
   ],
   "source": [
    "print(np.shape(train_X))\n",
    "model = model.fit(train_X, train_y, batch_size=batch_size,epochs=epochs,verbose=1,validation_data=(test_X, test_y))"
   ]
  }
 ],
 "metadata": {
  "interpreter": {
   "hash": "916dbcbb3f70747c44a77c7bcd40155683ae19c65e1c03b4aa3499c5328201f1"
  },
  "kernelspec": {
   "display_name": "Python 3.8.5 64-bit",
   "language": "python",
   "name": "python3"
  },
  "language_info": {
   "codemirror_mode": {
    "name": "ipython",
    "version": 3
   },
   "file_extension": ".py",
   "mimetype": "text/x-python",
   "name": "python",
   "nbconvert_exporter": "python",
   "pygments_lexer": "ipython3",
   "version": "3.8.5"
  }
 },
 "nbformat": 4,
 "nbformat_minor": 5
}
