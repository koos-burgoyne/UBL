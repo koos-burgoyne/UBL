{
 "cells": [
  {
   "cell_type": "code",
   "execution_count": 1,
   "id": "2bdebafd",
   "metadata": {},
   "outputs": [],
   "source": [
    "# Import numpy library for use in ...\n",
    "import numpy as np\n",
    "\n",
    "amino_acids = {\n",
    "    \"A\":0, \"R\":1, \"N\":2, \"D\":3, \"C\":4, \"Q\":5, \"E\":6, \"G\":7, \"H\":8, \"I\":9, \"L\":10, \"K\":11, \"M\":12, \"F\":13, \"P\":14, \"S\":15, \"T\":16, \"W\":17, \"Y\":18, \"V\":19\n",
    "}\n",
    "\n",
    "VHSE_descriptors = {\n",
    "    0:{\"A\":0.15, \"R\":-1.47, \"N\":-0.99, \"D\":-1.15, \"C\":0.18, \"Q\":-.96, \"E\":-1.18, \"G\":-0.2, \"H\":-0.43, \"I\":1.27, \"L\":11.36, \"K\":-1.17, \"M\":1.01, \"F\":1.52, \"P\":0.22, \"S\":-0.67, \"T\":-0.34, \"W\":1.5, \"Y\":0.61, \"V\":0.76},\n",
    "    1:{\"A\":-1.11, \"R\":1.45, \"N\":0,     \"D\":0.67, \"C\":-1.67, \"Q\":0.12, \"E\":0.4, \"G\":-1.53, \"H\":-0.25, \"I\":-0.14, \"L\":0.07, \"K\":0.7, \"M\":-0.53, \"F\":0.61, \"P\":-0.17, \"S\":-0.86, \"T\":-0.51, \"W\":2.06, \"Y\":1.6, \"V\":-0.92},\n",
    "    2:{\"A\":-1.35, \"R\":1.24, \"N\":-0.37, \"D\":-0.41, \"C\":-0.46, \"Q\":0.18, \"E\":0.1, \"G\":-2.63, \"H\":0.37, \"I\":0.3, \"L\":0.26, \"K\":0.7, \"M\":0.43, \"F\":0.96, \"P\":-0.5, \"S\":-1.07, \"T\":-0.55, \"W\":1.79, \"Y\":1.17, \"V\":0.17},\n",
    "    3:{\"A\":-0.92, \"R\":1.27, \"N\":0.69, \"D\":-0.01, \"C\":-.021, \"Q\":0.16, \"E\":0.36, \"G\":2.28, \"H\":0.19, \"I\":-1.8, \"L\":-0.8, \"K\":0.8, \"M\":0, \"F\":-0.16, \"P\":0.05, \"S\":-0.41, \"T\":-1.06, \"W\":0.75, \"Y\":0.73, \"V\":-1.91},\n",
    "    4:{\"A\":0.02, \"R\":1.55, \"N\":-0.55, \"D\":-2.68, \"C\":0, \"Q\":0.09, \"E\":-2.16, \"G\":-0.53, \"H\":0.51, \"I\":0.3, \"L\":0.22, \"K\":1.64, \"M\":0.23, \"F\":0.25, \"P\":-0.01, \"S\":-0.32, \"T\":0.01, \"W\":0.75, \"Y\":0.53, \"V\":0.22},\n",
    "    5:{\"A\":-0.91, \"R\":1.47, \"N\":0.85, \"D\":1.31, \"C\":1.2, \"Q\":0.42, \"E\":-0.17, \"G\":-1.18, \"H\":1.28, \"I\":-1.61, \"L\":-1.37, \"K\":0.67, \"M\":0.1, \"F\":0.28, \"P\":-1.43, \"S\":0.27, \"T\":-0.01, \"W\":-0.13, \"Y\":0.25, \"V\":-1.4},\n",
    "    6:{\"A\":0.36, \"R\":1.3, \"N\":0.73, \"D\":0.03, \"C\":-1.61, \"Q\":-0.2, \"E\":0.91, \"G\":2.01, \"H\":0.93, \"I\":-0.16, \"L\":0.08, \"K\":1.63, \"M\":-0.86, \"F\":-1.33, \"P\":-0.19, \"S\":-0.64, \"T\":-0.79, \"W\":-1.06, \"Y\":-0.96, \"V\":-0.24},\n",
    "    7:{\"A\":-0.48, \"R\":0.83, \"N\":-0.8, \"D\":0.56, \"C\":-0.19, \"Q\":-0.41, \"E\":0.02, \"G\":-1.34, \"H\":0.65, \"I\":-0.13, \"L\":-0.62, \"K\":0.13, \"M\":-0.68, \"F\":-0.2, \"P\":3.56, \"S\":0.11, \"T\":0.39, \"W\":-0.85, \"Y\":-0.52, \"V\":-0.03}\n",
    "}\n",
    "\n",
    "# Function info here ...\n",
    "def import_fa(file_name, return_labels=False):\n",
    "    print(\"Importing \"+file_name)\n",
    "    # List storage for file contents (sequences) and sequene labels\n",
    "    sequences = []\n",
    "    labels = []\n",
    "    num_classes = 0\n",
    "    class_counts = [0]\n",
    "    # Try to open the file as read only\n",
    "    try:\n",
    "        file = open(file_name, \"r\")\n",
    "    # If the file would not open, print error message and exit\n",
    "    except:\n",
    "        print(\"\\nError: Could not open file\")\n",
    "        print(\"File name given: \"+file_name+\"\\n\")\n",
    "        raise SystemExit\n",
    "    # Iterate over all the lines in the file\n",
    "    for line in file.readlines():\n",
    "        # If this character is at the start of the line, it is a sequence label\n",
    "        if line[0] == \">\":\n",
    "            # If the argument 'return_labels' is True, append the label to a list\n",
    "            if return_labels:\n",
    "                labels.append(str(line)[1:-1])\n",
    "            else:\n",
    "                continue\n",
    "        elif \"class\" in line:\n",
    "            class_counts.append(0)\n",
    "            num_classes += 1\n",
    "        else:\n",
    "            class_counts[num_classes] += 1\n",
    "        # Append the sequence to the list of sequences\n",
    "        sequences.append(str(line)[:-1])\n",
    "    print(\"    \"+str(num_classes)+\" classes\")\n",
    "    print(\"    \"+str(len(sequences)-num_classes)+\" sequences\")\n",
    "    print(\"    \"+str(np.array(class_counts)[1:])+\" class counts\")\n",
    "    # If the argument 'return_labels' is True, return arrays of the sequences and labels\n",
    "    if return_labels:\n",
    "        return np.array(sequences), np.array(labels)\n",
    "    # If False, only return an array of the sequences\n",
    "    else:\n",
    "        return np.array(sequences)\n",
    "\n",
    "# Function info here ...\n",
    "def raw_to_features(data,resample=1.0,balance=False):\n",
    "    print(\"\\nConverting to features:\")\n",
    "    num_VHSE = len(VHSE_descriptors)\n",
    "    num_AA = len(amino_acids)\n",
    "    num_features = num_AA + num_VHSE\n",
    "    n = len(data)\n",
    "    # Find basic data stats for function use:\n",
    "    #   the max length sequence in the data\n",
    "    #   the number of classes\n",
    "    #   count of each class\n",
    "    max_seq_len = 0\n",
    "    class_counts = [0]\n",
    "    num_classes = -1\n",
    "    # Iterate over all sequences to count num classes, class frequencies, and the max sequence length\n",
    "    for line in data:\n",
    "        # Look out for a new class\n",
    "        if \"class\" in line:\n",
    "            class_counts.append(0)\n",
    "            num_classes += 1\n",
    "            continue\n",
    "        # Skip labels\n",
    "        elif line[0] == \">\":\n",
    "            continue\n",
    "        # Update max sequence length\n",
    "        if len(line) > max_seq_len:\n",
    "            max_seq_len = len(line)\n",
    "        # Update class counts\n",
    "        class_counts[num_classes+1] += 1\n",
    "    \n",
    "    # Since this was -1 based, increment to convert to 0 based count\n",
    "    num_classes += 1\n",
    "    n -= num_classes\n",
    "    \n",
    "    # Print stats found above\n",
    "    print(\"  Num Classes:\", num_classes)\n",
    "    print(\"  Class Counts:\")\n",
    "    frmt = \"{:>7}\"*num_classes\n",
    "    print(\" \"+frmt.format(*[i for i in range(num_classes)]))\n",
    "    print(\"   \",end=\"\")\n",
    "    frmt = \"{:>7}\"*num_classes\n",
    "    print(\" \"+frmt.format(*[class_counts[i] for i in range(1,num_classes+1)]))\n",
    "\n",
    "    # Split data by class for resampling\n",
    "    data_by_class = []\n",
    "    start_idx = 1\n",
    "    end_idx = start_idx + class_counts[1]\n",
    "    for i in range(num_classes):\n",
    "        new_class = data[start_idx+1:end_idx]\n",
    "        np.random.shuffle(new_class)\n",
    "        data_by_class.append( new_class )\n",
    "        if i < num_classes-1:\n",
    "          #print(start_idx, end_idx, class_counts[i+2], class_counts)\n",
    "          start_idx += end_idx\n",
    "          end_idx = start_idx + class_counts[i+2]\n",
    "\n",
    "    #print(\"data by class:\",data_by_class)\n",
    "\n",
    "    # Init variables for resampling\n",
    "    total_per_class = 0\n",
    "    num_samples = n\n",
    "    # If resampling:\n",
    "    if resample != 1.0:\n",
    "        # Calculate the size of the resampled dataset\n",
    "        num_samples = int(n*resample)\n",
    "        # If balanced classs coutns are required:\n",
    "        if balance:\n",
    "            # Calculate a balanced total number of instances per class\n",
    "            total_per_class = int(num_samples/num_classes)\n",
    "            if total_per_class > min(np.array(class_counts)[1:]):\n",
    "                total_per_class = min(np.array(class_counts)[1:])\n",
    "            #print(\"\\ntotal/class:\", total_per_class, \"\\n\")\n",
    "            for i in range(len(data_by_class)):\n",
    "                indexes = np.random.default_rng().choice(len(data_by_class[i]), size=total_per_class-1, replace=False)\n",
    "                #print(\"idxs:\",indexes)\n",
    "                data_by_class[i] = data_by_class[i][indexes]\n",
    "            \n",
    "        # If imbalanced class counts are acceptable\n",
    "        else:\n",
    "            # Calculate the total number of instances per class in the same ratio as class counts\n",
    "            total_per_class = [int(num_samples*class_counts[i+1]/n) for i in range(num_classes)]\n",
    "            #print(\"total/class:\",total_per_class)\n",
    "            for i in range(len(data_by_class)):\n",
    "                indexes = np.random.default_rng().choice(len(data_by_class[i]), size=total_per_class[i]-1, replace=False)\n",
    "                data_by_class[i] = data_by_class[i][indexes]\n",
    "            \n",
    "        print(\"  Resampling:\")\n",
    "        print(\"    Dataset size :\",n)\n",
    "        print(\"    Total/class  :\",total_per_class)\n",
    "        print(\"    Total samples:\",total_per_class*num_classes)\n",
    "        print()\n",
    "    # If not resampling\n",
    "    # TODO:  Complete - could the above be used instead of conditional?\n",
    "    else:\n",
    "        total_per_class = int(n/num_classes)\n",
    "    \n",
    "    #print(\"data by class:\",data_by_class)\n",
    "    \n",
    "    # Instantiate storage of features and labels\n",
    "    X = []\n",
    "    y = []\n",
    "      \n",
    "    # Convert from strings to arrays and pad the sequences with zeros to \n",
    "    # the length of the maximum length sequence; this is the number of features\n",
    "    index = 0\n",
    "    for i in range(len(data_by_class)):\n",
    "        for j in range(len(data_by_class[i])):\n",
    "            # Instantiate new array of zeros\n",
    "            new_instance = []\n",
    "            for k in range(num_VHSE):\n",
    "                new_instance.append([-999 for acid in range(max_seq_len)])\n",
    "            for k in range(num_AA):\n",
    "                new_instance.append([0 for acid in range(max_seq_len)])\n",
    "            # Fill in sequence\n",
    "            for k in range(len(data_by_class[i][j])):\n",
    "                acid_char = data_by_class[i][j][k]\n",
    "                if acid_char in amino_acids:\n",
    "                    for l in range(num_VHSE):\n",
    "                        new_instance[l][k] = VHSE_descriptors[l][acid_char]\n",
    "                    new_instance[amino_acids[acid_char]+num_VHSE][k] = 1\n",
    "            # Store new sequence in features store X\n",
    "            X.append(new_instance)\n",
    "            y.append(i)\n",
    "            index += 1\n",
    "\n",
    "    # Return features and labels\n",
    "    return np.array(X),np.array(y),max_seq_len"
   ]
  },
  {
   "cell_type": "code",
   "execution_count": 2,
   "id": "4d5d7ed9",
   "metadata": {},
   "outputs": [
    {
     "name": "stderr",
     "output_type": "stream",
     "text": [
      "2021-12-14 14:37:16.054459: W tensorflow/stream_executor/platform/default/dso_loader.cc:64] Could not load dynamic library 'libcudart.so.11.0'; dlerror: libcudart.so.11.0: cannot open shared object file: No such file or directory\n",
      "2021-12-14 14:37:16.054484: I tensorflow/stream_executor/cuda/cudart_stub.cc:29] Ignore above cudart dlerror if you do not have a GPU set up on your machine.\n"
     ]
    }
   ],
   "source": [
    "# For one-hot encoding\n",
    "from tensorflow.keras.utils import to_categorical\n",
    "# For the loss function and optimizer\n",
    "import tensorflow.keras as keras\n",
    "# For the model\n",
    "from tensorflow.keras.models import Sequential,Model\n",
    "from tensorflow.keras.layers import Conv2D, MaxPooling2D\n",
    "from tensorflow.keras.layers import Input, Dense, Dropout, Flatten\n",
    "from tensorflow.keras.layers import LeakyReLU"
   ]
  },
  {
   "cell_type": "code",
   "execution_count": 3,
   "id": "9d8b990a",
   "metadata": {},
   "outputs": [
    {
     "name": "stdout",
     "output_type": "stream",
     "text": [
      "Importing data/ubl_zinc.fa\n",
      "    2 classes\n",
      "    29800 sequences\n",
      "    [ 3740 26060] class counts\n",
      "\n",
      "Converting to features:\n",
      "  Num Classes: 2\n",
      "  Class Counts:\n",
      "       0      1\n",
      "       3740  26060\n",
      "  Resampling:\n",
      "    Dataset size : 29800\n",
      "    Total/class  : 3740\n",
      "    Total samples: 7480\n",
      "\n",
      "Time taken: 176.595 sec\n",
      "shape of X: (7478, 28, 5537)\n",
      "shape of y: (7478,)\n"
     ]
    }
   ],
   "source": [
    "# Import the data and extract features\n",
    "import time\n",
    "start = time.time()\n",
    "data = import_fa(\"data/ubl_zinc.fa\")\n",
    "X, y, seq_len = raw_to_features(data, resample=0.3, balance=True)\n",
    "end = time.time()\n",
    "\n",
    "print(\"Time taken:\", round(end-start,3),\"sec\")\n",
    "print(\"shape of X:\",np.shape(X))\n",
    "print(\"shape of y:\",np.shape(y))"
   ]
  },
  {
   "cell_type": "code",
   "execution_count": 4,
   "id": "d3cab548",
   "metadata": {},
   "outputs": [],
   "source": [
    "# Convert y to one-hot encoding for the CNN \n",
    "y_one_hot = to_categorical(y)\n",
    "\n",
    "# Split the data into train, test, and validation\n",
    "from sklearn.model_selection import train_test_split\n",
    "X, valid_X, y_one_hot, valid_y = train_test_split(X, y_one_hot, test_size=0.2, random_state=0)\n",
    "train_X, test_X, train_y, test_y = train_test_split(X, y_one_hot, test_size=0.2, random_state=0)\n"
   ]
  },
  {
   "cell_type": "code",
   "execution_count": 5,
   "id": "3bc0cd2b",
   "metadata": {},
   "outputs": [],
   "source": [
    "\n",
    "train_class_counts = [0,0]\n",
    "for i in range(len(y_one_hot)):\n",
    "  for j in range(len(y_one_hot[0])):\n",
    "    if y_one_hot[i][j]==1:\n",
    "      train_class_counts[j] += 1\n",
    "valid_class_counts = [0,0]\n",
    "for i in range(len(valid_y)):\n",
    "  for j in range(len(valid_y[0])):\n",
    "    if valid_y[i][j]==1:\n",
    "      valid_class_counts[j] += 1\n",
    "\n",
    "# Number of data instances\n",
    "n = len(train_X)\n",
    "# Number of features\n",
    "m = len(train_X[0])\n",
    "# Length of sequence\n",
    "o = len(train_X[0][0])\n"
   ]
  },
  {
   "cell_type": "code",
   "execution_count": 6,
   "id": "5491a0e6",
   "metadata": {},
   "outputs": [
    {
     "name": "stdout",
     "output_type": "stream",
     "text": [
      "Shape of X      : (5982, 28, 5537)\n",
      "Shape of train_X: (4785, 28, 5537)\n",
      "Shape of valid_X: (1496, 28, 5537)\n",
      "\n",
      "Class distributions:\n",
      "  Train/Test: [3000, 2982]\n",
      "  Validation: [739, 757]\n",
      "\n",
      "n (no. train samples): 4785\n",
      "m (num features)     : 28\n",
      "o (length of seqs)   : 5537\n"
     ]
    }
   ],
   "source": [
    "\n",
    "# Print some data info\n",
    "print(\"Shape of X      :\",np.shape(X))\n",
    "print(\"Shape of train_X:\",np.shape(train_X))\n",
    "print(\"Shape of valid_X:\", np.shape(valid_X))\n",
    "print()\n",
    "print(\"Class distributions:\")\n",
    "print(\"  Train/Test:\",train_class_counts)\n",
    "print(\"  Validation:\", valid_class_counts)\n",
    "print()\n",
    "print('n (no. train samples):',n)\n",
    "print('m (num features)     :',m)\n",
    "print('o (length of seqs)   :',o)"
   ]
  },
  {
   "cell_type": "code",
   "execution_count": 7,
   "id": "cd7e5f80",
   "metadata": {},
   "outputs": [
    {
     "name": "stdout",
     "output_type": "stream",
     "text": [
      "Model: \"sequential\"\n",
      "_________________________________________________________________\n",
      " Layer (type)                Output Shape              Param #   \n",
      "=================================================================\n",
      " conv2d (Conv2D)             (None, 28, 5537, 32)      2720      \n",
      "                                                                 \n",
      " leaky_re_lu (LeakyReLU)     (None, 28, 5537, 32)      0         \n",
      "                                                                 \n",
      " max_pooling2d (MaxPooling2D  (None, 14, 2769, 32)     0         \n",
      " )                                                               \n",
      "                                                                 \n",
      " conv2d_1 (Conv2D)           (None, 14, 2769, 64)      6208      \n",
      "                                                                 \n",
      " leaky_re_lu_1 (LeakyReLU)   (None, 14, 2769, 64)      0         \n",
      "                                                                 \n",
      " max_pooling2d_1 (MaxPooling  (None, 7, 1385, 64)      0         \n",
      " 2D)                                                             \n",
      "                                                                 \n",
      " flatten (Flatten)           (None, 620480)            0         \n",
      "                                                                 \n",
      " dense (Dense)               (None, 2)                 1240962   \n",
      "                                                                 \n",
      "=================================================================\n",
      "Total params: 1,249,890\n",
      "Trainable params: 1,249,890\n",
      "Non-trainable params: 0\n",
      "_________________________________________________________________\n"
     ]
    },
    {
     "name": "stderr",
     "output_type": "stream",
     "text": [
      "2021-12-14 14:40:18.146571: I tensorflow/stream_executor/cuda/cuda_gpu_executor.cc:939] successful NUMA node read from SysFS had negative value (-1), but there must be at least one NUMA node, so returning NUMA node zero\n",
      "2021-12-14 14:40:18.146898: W tensorflow/stream_executor/platform/default/dso_loader.cc:64] Could not load dynamic library 'libcudart.so.11.0'; dlerror: libcudart.so.11.0: cannot open shared object file: No such file or directory\n",
      "2021-12-14 14:40:18.146965: W tensorflow/stream_executor/platform/default/dso_loader.cc:64] Could not load dynamic library 'libcublas.so.11'; dlerror: libcublas.so.11: cannot open shared object file: No such file or directory\n",
      "2021-12-14 14:40:18.147020: W tensorflow/stream_executor/platform/default/dso_loader.cc:64] Could not load dynamic library 'libcublasLt.so.11'; dlerror: libcublasLt.so.11: cannot open shared object file: No such file or directory\n",
      "2021-12-14 14:40:18.147074: W tensorflow/stream_executor/platform/default/dso_loader.cc:64] Could not load dynamic library 'libcufft.so.10'; dlerror: libcufft.so.10: cannot open shared object file: No such file or directory\n",
      "2021-12-14 14:40:18.147131: W tensorflow/stream_executor/platform/default/dso_loader.cc:64] Could not load dynamic library 'libcurand.so.10'; dlerror: libcurand.so.10: cannot open shared object file: No such file or directory\n",
      "2021-12-14 14:40:18.147185: W tensorflow/stream_executor/platform/default/dso_loader.cc:64] Could not load dynamic library 'libcusolver.so.11'; dlerror: libcusolver.so.11: cannot open shared object file: No such file or directory\n",
      "2021-12-14 14:40:18.147237: W tensorflow/stream_executor/platform/default/dso_loader.cc:64] Could not load dynamic library 'libcusparse.so.11'; dlerror: libcusparse.so.11: cannot open shared object file: No such file or directory\n",
      "2021-12-14 14:40:18.147290: W tensorflow/stream_executor/platform/default/dso_loader.cc:64] Could not load dynamic library 'libcudnn.so.8'; dlerror: libcudnn.so.8: cannot open shared object file: No such file or directory\n",
      "2021-12-14 14:40:18.147298: W tensorflow/core/common_runtime/gpu/gpu_device.cc:1850] Cannot dlopen some GPU libraries. Please make sure the missing libraries mentioned above are installed properly if you would like to use GPU. Follow the guide at https://www.tensorflow.org/install/gpu for how to download and setup the required libraries for your platform.\n",
      "Skipping registering GPU devices...\n",
      "2021-12-14 14:40:18.147540: I tensorflow/core/platform/cpu_feature_guard.cc:151] This TensorFlow binary is optimized with oneAPI Deep Neural Network Library (oneDNN) to use the following CPU instructions in performance-critical operations:  AVX2 FMA\n",
      "To enable them in other operations, rebuild TensorFlow with the appropriate compiler flags.\n"
     ]
    }
   ],
   "source": [
    "# Some model parameters\n",
    "batch_size = 64\n",
    "epochs = 30\n",
    "num_classes = 2\n",
    "\n",
    "# Instantiate the model\n",
    "model = Sequential()\n",
    "\n",
    "# Add layers\n",
    "model.add(Conv2D(filters=32, kernel_size=(m,3),activation='linear',input_shape=(m,o,1),padding='same'))\n",
    "model.add(LeakyReLU(alpha=0.1))\n",
    "model.add(MaxPooling2D(pool_size=2,padding='same'))\n",
    "\n",
    "model.add(Conv2D(filters=64, kernel_size=(1,3),activation='linear',padding='same'))\n",
    "model.add(LeakyReLU(alpha=0.1))\n",
    "model.add(MaxPooling2D(pool_size=2,padding='same'))\n",
    "\n",
    "model.add(Flatten())\n",
    "model.add(Dense(num_classes, activation='softmax'))\n",
    "\n",
    "# Compile the model\n",
    "# For now, this gives errors about loading the dynamic library for GPU use\n",
    "model.compile(\n",
    "    loss=keras.losses.categorical_crossentropy, \n",
    "    optimizer=keras.optimizers.Adam(),\n",
    "    metrics=['accuracy']\n",
    ")\n",
    "\n",
    "# Print a summary of the model\n",
    "model.summary()"
   ]
  },
  {
   "cell_type": "code",
   "execution_count": 8,
   "id": "32ec3109",
   "metadata": {},
   "outputs": [
    {
     "name": "stderr",
     "output_type": "stream",
     "text": [
      "2021-12-14 14:40:18.893031: W tensorflow/core/framework/cpu_allocator_impl.cc:82] Allocation of 2967389040 exceeds 10% of free system memory.\n"
     ]
    },
    {
     "name": "stdout",
     "output_type": "stream",
     "text": [
      "Epoch 1/30\n"
     ]
    },
    {
     "name": "stderr",
     "output_type": "stream",
     "text": [
      "2021-12-14 14:40:20.616810: W tensorflow/core/framework/cpu_allocator_impl.cc:82] Allocation of 1270054912 exceeds 10% of free system memory.\n",
      "2021-12-14 14:40:21.894234: W tensorflow/core/framework/cpu_allocator_impl.cc:82] Allocation of 1270054912 exceeds 10% of free system memory.\n"
     ]
    },
    {
     "name": "stdout",
     "output_type": "stream",
     "text": [
      " 1/75 [..............................] - ETA: 9:15 - loss: 6.4918 - accuracy: 0.5156"
     ]
    },
    {
     "name": "stderr",
     "output_type": "stream",
     "text": [
      "2021-12-14 14:40:27.799220: W tensorflow/core/framework/cpu_allocator_impl.cc:82] Allocation of 1270054912 exceeds 10% of free system memory.\n",
      "2021-12-14 14:40:29.047368: W tensorflow/core/framework/cpu_allocator_impl.cc:82] Allocation of 1270054912 exceeds 10% of free system memory.\n"
     ]
    },
    {
     "name": "stdout",
     "output_type": "stream",
     "text": [
      "75/75 [==============================] - 567s 8s/step - loss: 1015.3623 - accuracy: 0.5223 - val_loss: 21.6769 - val_accuracy: 0.6366\n",
      "Epoch 2/30\n",
      "75/75 [==============================] - 567s 8s/step - loss: 30.3101 - accuracy: 0.6215 - val_loss: 6.9905 - val_accuracy: 0.7126\n",
      "Epoch 3/30\n",
      "75/75 [==============================] - 567s 8s/step - loss: 13.9567 - accuracy: 0.6627 - val_loss: 22.4612 - val_accuracy: 0.5990\n",
      "Epoch 4/30\n",
      "75/75 [==============================] - 568s 8s/step - loss: 18.1798 - accuracy: 0.6349 - val_loss: 4.8116 - val_accuracy: 0.7510\n",
      "Epoch 5/30\n",
      "75/75 [==============================] - 567s 8s/step - loss: 6.9161 - accuracy: 0.7367 - val_loss: 10.3651 - val_accuracy: 0.6901\n",
      "Epoch 6/30\n",
      "75/75 [==============================] - 568s 8s/step - loss: 6.6048 - accuracy: 0.7266 - val_loss: 3.0316 - val_accuracy: 0.8154\n",
      "Epoch 7/30\n",
      "75/75 [==============================] - 568s 8s/step - loss: 2.9251 - accuracy: 0.7994 - val_loss: 1.7531 - val_accuracy: 0.8429\n",
      "Epoch 8/30\n",
      "75/75 [==============================] - 571s 8s/step - loss: 2.5842 - accuracy: 0.8054 - val_loss: 1.8933 - val_accuracy: 0.8154\n",
      "Epoch 9/30\n",
      "75/75 [==============================] - 577s 8s/step - loss: 1.6067 - accuracy: 0.8378 - val_loss: 1.2935 - val_accuracy: 0.8630\n",
      "Epoch 10/30\n",
      "75/75 [==============================] - 577s 8s/step - loss: 2.0716 - accuracy: 0.8278 - val_loss: 5.8084 - val_accuracy: 0.6433\n",
      "Epoch 11/30\n",
      "75/75 [==============================] - 579s 8s/step - loss: 2.5673 - accuracy: 0.8073 - val_loss: 4.2994 - val_accuracy: 0.6992\n",
      "Epoch 12/30\n",
      "75/75 [==============================] - 577s 8s/step - loss: 1.9331 - accuracy: 0.8336 - val_loss: 3.4662 - val_accuracy: 0.7485\n",
      "Epoch 13/30\n",
      "75/75 [==============================] - 577s 8s/step - loss: 1.8961 - accuracy: 0.8332 - val_loss: 2.1458 - val_accuracy: 0.7903\n",
      "Epoch 14/30\n",
      "75/75 [==============================] - 577s 8s/step - loss: 1.2812 - accuracy: 0.8562 - val_loss: 1.1729 - val_accuracy: 0.8262\n",
      "Epoch 15/30\n",
      "75/75 [==============================] - 577s 8s/step - loss: 1.1974 - accuracy: 0.8631 - val_loss: 1.1694 - val_accuracy: 0.8906\n",
      "Epoch 16/30\n",
      "75/75 [==============================] - 577s 8s/step - loss: 1.1384 - accuracy: 0.8619 - val_loss: 1.0370 - val_accuracy: 0.8630\n",
      "Epoch 17/30\n",
      "75/75 [==============================] - 576s 8s/step - loss: 0.7998 - accuracy: 0.8805 - val_loss: 0.9213 - val_accuracy: 0.8914\n",
      "Epoch 18/30\n",
      "75/75 [==============================] - 577s 8s/step - loss: 0.9684 - accuracy: 0.8740 - val_loss: 0.9094 - val_accuracy: 0.8605\n",
      "Epoch 19/30\n",
      "75/75 [==============================] - 577s 8s/step - loss: 0.7549 - accuracy: 0.8915 - val_loss: 0.7243 - val_accuracy: 0.8989\n",
      "Epoch 20/30\n",
      "75/75 [==============================] - 577s 8s/step - loss: 0.6622 - accuracy: 0.9011 - val_loss: 1.4502 - val_accuracy: 0.8630\n",
      "Epoch 21/30\n",
      "75/75 [==============================] - 577s 8s/step - loss: 1.0170 - accuracy: 0.8706 - val_loss: 0.7435 - val_accuracy: 0.8764\n",
      "Epoch 22/30\n",
      "75/75 [==============================] - 577s 8s/step - loss: 122.8972 - accuracy: 0.6006 - val_loss: 219.9411 - val_accuracy: 0.5196\n",
      "Epoch 23/30\n",
      "75/75 [==============================] - 576s 8s/step - loss: 94.7663 - accuracy: 0.6439 - val_loss: 8.9758 - val_accuracy: 0.8087\n",
      "Epoch 24/30\n",
      "75/75 [==============================] - 576s 8s/step - loss: 21.2215 - accuracy: 0.7302 - val_loss: 4.2488 - val_accuracy: 0.8296\n",
      "Epoch 25/30\n",
      "75/75 [==============================] - 576s 8s/step - loss: 5.5609 - accuracy: 0.8134 - val_loss: 7.6551 - val_accuracy: 0.7059\n",
      "Epoch 26/30\n",
      "75/75 [==============================] - 576s 8s/step - loss: 2.4614 - accuracy: 0.8759 - val_loss: 2.2683 - val_accuracy: 0.8864\n",
      "Epoch 27/30\n",
      "75/75 [==============================] - 576s 8s/step - loss: 2.5953 - accuracy: 0.8646 - val_loss: 1.5676 - val_accuracy: 0.8881\n",
      "Epoch 28/30\n",
      "75/75 [==============================] - 578s 8s/step - loss: 2.8230 - accuracy: 0.8612 - val_loss: 4.0680 - val_accuracy: 0.8530\n",
      "Epoch 29/30\n",
      "75/75 [==============================] - 576s 8s/step - loss: 1.5823 - accuracy: 0.8897 - val_loss: 1.0895 - val_accuracy: 0.9206\n",
      "Epoch 30/30\n",
      "75/75 [==============================] - 576s 8s/step - loss: 1.2651 - accuracy: 0.9037 - val_loss: 0.9822 - val_accuracy: 0.8981\n"
     ]
    }
   ],
   "source": [
    "# Specify log files\n",
    "#from datetime import datetime\n",
    "#logdir = \"logs/scalars/\" + datetime.now().strftime(\"%Y%m%d-%H%M%S\")\n",
    "#tensorboard_callback = keras.callbacks.TensorBoard(log_dir=logdir)\n",
    "\n",
    "# Train the model\n",
    "history = model.fit(train_X, train_y, batch_size=batch_size,epochs=epochs,verbose=1,validation_data=(test_X, test_y))"
   ]
  },
  {
   "cell_type": "code",
   "execution_count": 9,
   "id": "e44cdb3a",
   "metadata": {},
   "outputs": [
    {
     "name": "stderr",
     "output_type": "stream",
     "text": [
      "2021-12-14 19:27:32.945488: W tensorflow/python/util/util.cc:368] Sets are not currently considered sequences, but this may change in the future, so consider avoiding using them.\n"
     ]
    },
    {
     "name": "stdout",
     "output_type": "stream",
     "text": [
      "INFO:tensorflow:Assets written to: 21.12.13_model_ubl-zinc/assets\n"
     ]
    },
    {
     "data": {
      "image/png": "[encoded data removed]",
      "text/plain": [
       "<Figure size 432x288 with 1 Axes>"
      ]
     },
     "metadata": {
      "needs_background": "light"
     },
     "output_type": "display_data"
    },
    {
     "data": {
      "image/png": "[encoded data removed]",
      "text/plain": [
       "<Figure size 432x288 with 1 Axes>"
      ]
     },
     "metadata": {
      "needs_background": "light"
     },
     "output_type": "display_data"
    }
   ],
   "source": [
    "# Save the model\n",
    "model.save(\"21.12.13_model_ubl-zinc\")\n",
    "\n",
    "# Print some of the results\n",
    "import matplotlib.pyplot as plt\n",
    "# Loss over epochs\n",
    "plt.plot(history.history['loss'], label='Train')\n",
    "plt.plot(history.history['val_loss'], label='Test')\n",
    "plt.title('MAE')\n",
    "plt.ylabel('MAE value')\n",
    "plt.xlabel('Epoch')\n",
    "plt.legend()\n",
    "plt.show()\n",
    "# Accuracy over epochs\n",
    "plt.plot(history.history['accuracy'], label='Train Accuracy')\n",
    "plt.plot(history.history['val_accuracy'], label='Test Accuracy')\n",
    "plt.title('% Classification Accuracy')\n",
    "plt.ylabel('% Accuracy')\n",
    "plt.xlabel('Epoch')\n",
    "plt.legend()\n",
    "plt.show()"
   ]
  },
  {
   "cell_type": "code",
   "execution_count": 10,
   "id": "84f94e12",
   "metadata": {},
   "outputs": [
    {
     "name": "stdout",
     "output_type": "stream",
     "text": [
      "Number of validation samples: 1496\n",
      "47/47 [==============================] - 42s 899ms/step - loss: 1.3562 - accuracy: 0.8924\n",
      "[[637 102]\n",
      " [ 59 698]]\n"
     ]
    }
   ],
   "source": [
    "print(\"Number of validation samples:\",len(valid_X))\n",
    "\n",
    "# Evaluate the model with the final evaluation testing set\n",
    "model.evaluate(valid_X, valid_y)\n",
    "\n",
    "# Get predictions and print confusion matrix\n",
    "results = model.predict(valid_X)\n",
    "\n",
    "predictions = np.zeros(len(results))\n",
    "observed = np.zeros(len(valid_y))\n",
    "\n",
    "threshold = 0.5\n",
    "for i in range(len(results)):\n",
    "    if results[i][0] > threshold:\n",
    "        predictions[i] = 0\n",
    "    else:\n",
    "        predictions[i] = 1\n",
    "    if valid_y[i][1] == 1:\n",
    "        observed[i] = 1\n",
    "\n",
    "from sklearn.metrics import confusion_matrix\n",
    "\n",
    "print( confusion_matrix(observed, predictions) )"
   ]
  }
 ],
 "metadata": {
  "interpreter": {
   "hash": "916dbcbb3f70747c44a77c7bcd40155683ae19c65e1c03b4aa3499c5328201f1"
  },
  "kernelspec": {
   "display_name": "Python 3.8.5 64-bit",
   "language": "python",
   "name": "python3"
  },
  "language_info": {
   "codemirror_mode": {
    "name": "ipython",
    "version": 3
   },
   "file_extension": ".py",
   "mimetype": "text/x-python",
   "name": "python",
   "nbconvert_exporter": "python",
   "pygments_lexer": "ipython3",
   "version": "3.8.5"
  }
 },
 "nbformat": 4,
 "nbformat_minor": 5
}
